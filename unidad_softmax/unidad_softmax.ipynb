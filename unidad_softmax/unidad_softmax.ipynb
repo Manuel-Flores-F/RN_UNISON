{
 "cells": [
  {
   "cell_type": "markdown",
   "metadata": {},
   "source": [
    "<img src=\"imagenes/rn3.png\" width=\"200\">\n",
    "<img src=\"http://www.identidadbuho.uson.mx/assets/letragrama-rgb-150.jpg\" width=\"200\">"
   ]
  },
  {
   "cell_type": "markdown",
   "metadata": {},
   "source": [
    "# [Curso de Redes Neuronales](https://curso-redes-neuronales-unison.github.io/Temario/)\n",
    "\n",
    "# Una sola unidad *softmax*\n",
    "\n",
    "[**Julio Waissman Vilanova**](http://mat.uson.mx/~juliowaissman/), 18 de febrero de 2019 (última revisión).\n",
    "\n",
    "En esta libreta vamos a revisar los aspectos básicos del aprendizaje para una unidad *softmax* de $K$ salidas, sin capas ocultas y usando el criterio de pérdida de entropia en varias clases. El algoritmo es sencillo pero es importante entenderlo bien antes de pasar a cosas más complicadas.\n",
    "\n",
    "Empecemos por inicializar los modulos que vamos a requerir."
   ]
  },
  {
   "cell_type": "code",
   "execution_count": 2,
   "metadata": {},
   "outputs": [],
   "source": [
    "%matplotlib inline\n",
    "import numpy as np\n",
    "import matplotlib.pyplot as plt\n",
    "from IPython.display import Image  # Esto es para desplegar imágenes en la libreta\n",
    "\n",
    "plt.rcParams['figure.figsize'] = (20,10)\n",
    "plt.style.use('ggplot')"
   ]
  },
  {
   "cell_type": "markdown",
   "metadata": {},
   "source": [
    "## 1. La base de datos a utilizar"
   ]
  },
  {
   "cell_type": "markdown",
   "metadata": {},
   "source": [
    "La unidad *softmax* es el último de los tipos básicos de neuronas de salida que revisaremos. Para ejemplificar su uso, vamos a utilizar una base de datos bastante comun, MNIST. MNIST es una base de datos de digitos escritos a mano, en formato de $20 \\times 20$ pixeles. La base completa puede obtenerse en la página de Yan LeCun (http://yann.lecun.com/exdb/mnist/).\n",
    "\n",
    "Nosotros en realidad vamos a utilizar una base de datos reducida de la original y con imágenes de calidad más reducida ($16 \\times 16$ pixeles por imagen). Numpy provée un método para guardad objetos tipo numpy en un solo archivo, utilizando el método de compresión *gunzip*. Los datos ya se encuentran preprocesados y empaquetados en un archivo llamado `digitos.npz`. "
   ]
  },
  {
   "cell_type": "code",
   "execution_count": 3,
   "metadata": {},
   "outputs": [
    {
     "name": "stdout",
     "output_type": "stream",
     "text": [
      "Las llaves del diccionario son: \n",
      "KeysView(<numpy.lib.npyio.NpzFile object at 0x0000014D647A36C8>)\n"
     ]
    }
   ],
   "source": [
    "data = np.load(\"datos/digitos.npz\")\n",
    "\n",
    "print(\"Las llaves del diccionario son: \\n{}\".format(data.keys()))"
   ]
  },
  {
   "cell_type": "markdown",
   "metadata": {},
   "source": [
    "En este caso, `data` es un objeto contenedor de numpy cuyas llaves son `X_valida`, `X_entrena`, `T_valida`, `T_entrena`. Cada una de estas son a su vez objetos tipo ndarray de numpy, los cuales contienen valores de entrada y salida, tantopara entrenamiento como para validación. No se preocupen, esto de entrenamiento y validación lo vamos a ver más adelante en la clase.\n",
    "\n",
    "Cada renglon de x es una imagen *desenrrollada*, esto es los 256 datos de una imágen de $16 \\times 16$ pixeles. Por otra parte, cada renglon de y es un vector de 10 posiciones, donde todos los valores son ceros, salvo uno, que es el que define la clase de la imagen.\n",
    "\n",
    "Para darse una mejor idea, ejecuta el siguiente script varias veces."
   ]
  },
  {
   "cell_type": "code",
   "execution_count": 4,
   "metadata": {},
   "outputs": [
    {
     "name": "stdout",
     "output_type": "stream",
     "text": [
      "-- x es de dimensiones (9000, 256)\n",
      "-- y es de dimensiones (9000, 10)\n",
      "\n",
      "y si escogemos la imagen 436 veremos\n"
     ]
    },
    {
     "data": {
      "image/png": "[encoded data removed]",
      "text/plain": [
       "<Figure size 432x288 with 1 Axes>"
      ]
     },
     "metadata": {
      "needs_background": "light"
     },
     "output_type": "display_data"
    },
    {
     "name": "stdout",
     "output_type": "stream",
     "text": [
      "la cual es un 6\n",
      "\n",
      "\n",
      "Y si miramos lo que contiene, veremos que\n",
      "x[a,:] = \n",
      "[0.         0.         0.         0.         0.         0.\n",
      " 0.         0.         0.08627451 0.4784314  0.5411765  0.23137257\n",
      " 0.         0.         0.         0.         0.         0.\n",
      " 0.         0.         0.         0.         0.12156864 0.43529415\n",
      " 1.         1.         1.         0.7843138  0.         0.\n",
      " 0.         0.         0.         0.         0.         0.\n",
      " 0.         0.35294119 0.91764712 1.         1.         1.\n",
      " 0.96078438 0.4784314  0.         0.         0.         0.\n",
      " 0.         0.         0.         0.19607845 0.80000007 0.97254908\n",
      " 1.         1.         0.85098046 0.26274511 0.17254902 0.\n",
      " 0.         0.         0.         0.         0.         0.\n",
      " 0.37254903 0.95294124 1.         1.         1.         0.75294125\n",
      " 0.06666667 0.         0.         0.         0.         0.\n",
      " 0.         0.         0.         0.3137255  0.99215692 1.\n",
      " 1.         1.         0.56470591 0.01176471 0.         0.\n",
      " 0.         0.         0.         0.         0.         0.\n",
      " 0.         0.8588236  1.         1.         1.         0.74509805\n",
      " 0.1137255  0.         0.0627451  0.14509805 0.4039216  0.14509805\n",
      " 0.08235294 0.         0.         0.         0.29411766 0.95686281\n",
      " 1.         1.         0.70588237 0.04313726 0.03529412 0.49019611\n",
      " 0.81960791 1.         1.         1.         0.86274517 0.227451\n",
      " 0.         0.         0.42745101 1.         1.         1.\n",
      " 0.12941177 0.4039216  0.80392164 1.         1.         1.\n",
      " 1.         1.         1.         0.70980394 0.         0.\n",
      " 0.42745101 1.         1.         1.         0.8588236  0.98039222\n",
      " 1.         1.         1.         0.52156866 0.14117648 0.4039216\n",
      " 1.         0.96078438 0.24313727 0.         0.42745101 1.\n",
      " 1.         1.         1.         0.99215692 0.90196085 0.25098041\n",
      " 0.05490196 0.00784314 0.         0.         0.72156864 1.\n",
      " 0.56862748 0.01176471 0.37647063 0.98431379 1.         1.\n",
      " 1.         0.74509805 0.11764707 0.11764707 0.11764707 0.11764707\n",
      " 0.11764707 0.38039219 0.75686282 1.         1.         0.42352945\n",
      " 0.08627451 0.88627458 1.         1.         1.         1.\n",
      " 1.         1.         1.         1.         1.         1.\n",
      " 1.         1.         0.96862751 0.33725491 0.42745101 1.\n",
      " 1.         1.         1.         1.         1.         1.\n",
      " 1.         1.         1.         1.         1.         0.74901962\n",
      " 0.34509805 0.         0.26666668 0.9450981  1.         1.\n",
      " 0.62352943 0.62352943 0.62352943 0.62352943 0.62352943 0.62352943\n",
      " 0.62352943 0.36078432 0.16862746 0.02352941 0.         0.\n",
      " 0.         0.07058824 0.34117648 0.08235294 0.         0.\n",
      " 0.         0.         0.         0.         0.         0.\n",
      " 0.         0.         0.         0.        ]\n",
      "y[a,:] = \n",
      "[0. 0. 0. 0. 0. 0. 1. 0. 0. 0.]\n"
     ]
    }
   ],
   "source": [
    "x = data['X_entrena']\n",
    "y = data['T_entrena']\n",
    "\n",
    "a = np.random.randint(0, y.shape[0])\n",
    "\n",
    "print(\"-- x es de dimensiones {}\".format(x.shape))\n",
    "print(\"-- y es de dimensiones {}\".format(y.shape))\n",
    "\n",
    "print(\"\\ny si escogemos la imagen {} veremos\".format(a))\n",
    "\n",
    "plt.imshow(x[a,:].reshape(16,16), cmap=plt.gray())\n",
    "plt.axis('off')\n",
    "plt.show()\n",
    "\n",
    "print(\"la cual es un {}\".format(list(y[a,:]).index(1)))\n",
    "\n",
    "print(\"\\n\\nY si miramos lo que contiene, veremos que\")\n",
    "print(\"x[a,:] = \\n{}\\ny[a,:] = \\n{}\".format(x[a,:], y[a,:]))\n"
   ]
  },
  {
   "cell_type": "markdown",
   "metadata": {},
   "source": [
    "O bien, ejecuta este script varias veces para ver un grupo grande de imágenes."
   ]
  },
  {
   "cell_type": "code",
   "execution_count": 18,
   "metadata": {},
   "outputs": [
    {
     "data": {
      "text/plain": [
       "Text(0.5, 1.0, 'Ejemplos aleatorios de imágenes a clasificar')"
      ]
     },
     "execution_count": 18,
     "metadata": {},
     "output_type": "execute_result"
    },
    {
     "data": {
      "image/png": "[encoded data removed]",
      "text/plain": [
       "<Figure size 432x288 with 1 Axes>"
      ]
     },
     "metadata": {
      "needs_background": "light"
     },
     "output_type": "display_data"
    }
   ],
   "source": [
    "indices = np.arange(y.shape[0])\n",
    "np.random.shuffle(indices)\n",
    "ind = indices[0:100].reshape(10,10)\n",
    "\n",
    "imagen = np.ones((10 * 16 + 4*11, 10 * 16 + 4*11))\n",
    "for i in range(10):\n",
    "    for j in range(10):\n",
    "        imagen[4 + i * 20: 20 + i * 20, 4 + j * 20: 20 + j * 20] = x[ind[i, j], :].reshape(16,16)\n",
    "        \n",
    "plt.imshow(imagen, cmap=plt.gray())\n",
    "plt.axis('off')\n",
    "plt.title(u\"Ejemplos aleatorios de imágenes a clasificar\")\n"
   ]
  },
  {
   "cell_type": "markdown",
   "metadata": {},
   "source": [
    "## 2. Unidad *softmax*"
   ]
  },
  {
   "cell_type": "markdown",
   "metadata": {},
   "source": [
    "En una unidad *softmax*, en lugar de estimar solamente un vector de parámetros, el valor de salida lo descomponemos en $K$ vectores de salida con valores de 1 (si pertenece a esa clase) o cero (si no pertenece). A esto se le conoce como *dummy variable*. En el ejemplo que tenemos, las clases ya se encuentran de esa forma (por eso la salida es un vector de dimensión 10 donde solo uno es 1 y todos los demás valores son 0).  \n",
    "\n",
    "El problema de aprendizaje para una unidad *softmax* es estimar una matriz de pesos $W$ y un vector de sesgos tal que:\n",
    "\n",
    "$$\n",
    "W = (w_1, \\ldots, w_K)^T, \\quad b = (b_1, \\ldots, b_K)^T\n",
    "$$\n",
    "\n",
    "donde $w_c = (w_{c,1}, \\ldots, w_{c,n})^T$ para $c = 1, \\ldots, K$, es el vector columna que parametriza la clase $c$. \n",
    "La probabilidad que el objeto $x^{(i)}$ pertenezca a la clase $c$ está dado por una distribución *softmax* de la agregación lineal de cada atributo, esto es:\n",
    "\n",
    "$$\n",
    "z_c^{(i)} = w_c^T x^{(i)} + b_c, \\quad z^{(i)} = (z_1^{(i)}, \\ldots, z_K^{(i)})^T,\n",
    "$$\n",
    "\n",
    "$$\n",
    "a_c^{(i)} = \\Pr[y^{(i)} = c\\ |\\ x^{(i)}; W, b] = softmax_c(z^{(i)}) = \\frac{\\exp(z_c^{(i)})}{\\sum_{r=1}^K \\exp(z_r^{(i)})}.\n",
    "$$\n",
    "\n",
    "Recuerda que para calcular el valor de *softmax* hay que estar muy pendiente de evitar problemas de estabilidad numérica, así que cuando lo programes toma en cuenta las recomedaciones que se realizaron en el curso.\n",
    "\n",
    "**Implementa el calculo de softmax en forma matricial (para todas las clases de un conjunto de M ejemplos)**\n"
   ]
  },
  {
   "cell_type": "code",
   "execution_count": 48,
   "metadata": {},
   "outputs": [],
   "source": [
    "def softmax(z):\n",
    "    \"\"\"\n",
    "    Calculo de la regresión softmax\n",
    "    \n",
    "    @param z: ndarray de dimensión (K, M) donde z[:, i] es el vector $z^{(i)}$\n",
    "    \n",
    "    @return: un ndarray de dimensión (K, M) donde cada columna es $a^{(i)}$.\n",
    "    \n",
    "    \"\"\" \n",
    "\n",
    "\n",
    "    #--------------------------------------------------------------------------------\n",
    "    # AGREGA AQUI TU CÓDIGO\n",
    "    #--------------------------------------------------------------------------------\n",
    "    K, M = z.shape\n",
    "    softm = np.zeros((K,M))\n",
    "    \n",
    "    for i in range(K):\n",
    "        ez = np.exp(z[i,:]-z[i,:].max())\n",
    "        softm [i] = ez / ez.sum()\n",
    "        \n",
    "    \n",
    "    return softm\n",
    "    \n",
    "   #--------------------------------------------------------------------------------\n",
    "\n",
    "\n"
   ]
  },
  {
   "cell_type": "code",
   "execution_count": 49,
   "metadata": {},
   "outputs": [
    {
     "name": "stdout",
     "output_type": "stream",
     "text": [
      "[[1.23373752e-04 4.53866669e-05 0.00000000e+00 9.99707866e-01\n",
      "  1.23373752e-04]\n",
      " [1.71400260e-05 3.77534197e-01 0.00000000e+00 7.78155979e-10\n",
      "  6.22448662e-01]\n",
      " [1.31227001e-05 2.89046704e-01 0.00000000e+00 2.19171410e-10\n",
      "  7.10940173e-01]]\n"
     ]
    }
   ],
   "source": [
    "# Y otra vez con el testunit del pobre (los pueden hacer a mano para verificar)\n",
    "z = np.array([[    1,    -10,     -10],\n",
    "                  [    0,      0,       0],\n",
    "                  [-1000,  -1000,   -1000],\n",
    "                  [   10,    -20,     -21],\n",
    "                  [    1,    0.5,    0.9]]).T\n",
    "a = softmax(z)\n",
    "\n",
    "print(a)\n",
    "\n",
    "#assert np.all(np.abs(np.sum(a, axis=0) - 1) < 1e-8)\n",
    "#assert a[0, 0] > 0.999\n",
    "#assert a[1, 0] == a[2, 0]\n",
    "#assert 0.33 < a[0, 1] == a[1, 1] == a[2, 1] < 0.34\n",
    "#assert 0.33 < a[0, 2] == a[1, 2] == a[2, 2] < 0.34\n",
    "#assert a[1, 3] > a[2, 3]\n",
    "#assert a[1, 4] < a[2, 4] < a[0, 4]"
   ]
  },
  {
   "cell_type": "markdown",
   "metadata": {},
   "source": [
    "Y ahora es necesario implementar la función de pérdida, la cual es la suma del logaritmo de la probabilidad estimada para la clase que debería haber sido seleccionada (criterio de mínima entropía) tal como lo vimos en clase:\n",
    "\n",
    "$$\n",
    "Loss(W, b) = -\\frac{1}{M}\\sum_{i=1}^M \\sum_{c=1}^K y_c^{(i)} \\log(a_c^{(i)}),\n",
    "$$\n",
    "\n",
    "donde $y_c^{(i)}$ es un valor de 0 o 1 dependiendo si el objeto $i$ pertenece a la clase $c$ o no, mientras que $a_c^{(i)}$ es la probabilidad que el objeto $i$ pertenezca a la clase $k$ conociendo $x^{(i)}$ y parametrizado por W y b. \n",
    "\n",
    "**Implementa la función de pérdida de manera relativamente eficiente, utilizando las facilidades que presenta numpy (recuerda usar los trucos vistos para el cálculo del logarítmo de la función softmax).**"
   ]
  },
  {
   "cell_type": "code",
   "execution_count": 36,
   "metadata": {},
   "outputs": [],
   "source": [
    "def Loss(x, y, W, b):\n",
    "    \"\"\"\n",
    "    Calcula el costo para la regresión softmax parametrizada por theta, \n",
    "    con el conjunto de datos dado por (x, y)\n",
    "    \n",
    "    @param x: ndarray de dimensión (M, n) con los datos\n",
    "    @param y: ndarray de dimensión (M, K) con la clase por cada dato\n",
    "    @param W: ndarray de dimensión (K, n) con los pesos\n",
    "    @param b: ndarray de dimensión (K,) con los sesgos\n",
    "    \n",
    "    @return: Un valor flotante con la pérdida utilizando mínima entropía\n",
    "    \n",
    "    \"\"\"\n",
    "    M, K = y.shape\n",
    "    n = x.shape[1]\n",
    "    \n",
    "    #--------------------------------------------------------------------------------\n",
    "    # AGREGA AQUI TU CÓDIGO\n",
    "    #--------------------------------------------------------------------------------\n",
    "    \n",
    "    z = x.dot(W.T)+b\n",
    "    a=softmax(z)\n",
    "\n",
    "    suma = np.sum(np.log(a[y==1]))\n",
    "\n",
    "    return (-1/M)*suma\n",
    "    \n",
    "    \n",
    "    \n",
    " "
   ]
  },
  {
   "cell_type": "code",
   "execution_count": 50,
   "metadata": {},
   "outputs": [
    {
     "name": "stdout",
     "output_type": "stream",
     "text": [
      "Paso la prueba\n"
     ]
    }
   ],
   "source": [
    "   #--------------------------------------------------------------------------------\n",
    "\n",
    "def test_perdida():\n",
    "    x = np.array([[0, 0], \n",
    "                  [0, 1], \n",
    "                  [1, 0], \n",
    "                  [1, 1]])\n",
    "    y = np.eye(4)\n",
    "\n",
    "    W = np.array([[-4,  -4],\n",
    "                  [-1,   3],\n",
    "                  [ 3, -10],\n",
    "                  [ 5,   5]])\n",
    "                \n",
    "    b = np.array([3, -1, 0.01, -5])\n",
    "    \n",
    "    #print(Loss(x, y, W, b))\n",
    "    \n",
    "    assert 0.08 < Loss(x, y, W, b) < 0.09\n",
    "    return \"Paso la prueba\"\n",
    "    \n",
    "print(test_perdida())"
   ]
  },
  {
   "cell_type": "markdown",
   "metadata": {},
   "source": [
    "**Implementa la función para predecir el valor de $y$ estimada, basandose en el principio de *maximum a posteriori.**"
   ]
  },
  {
   "cell_type": "code",
   "execution_count": 51,
   "metadata": {},
   "outputs": [
    {
     "name": "stdout",
     "output_type": "stream",
     "text": [
      "Paso la prueba\n"
     ]
    }
   ],
   "source": [
    "def predice(x, W, b):\n",
    "    \"\"\"\n",
    "    Prediccion de y_hat a partir de la matriz de pesos W y el vector de sesgos b \n",
    "    para los valores de x\n",
    "    \n",
    "    @param x: ndarray de dimensión (M, n) con los datos\n",
    "    @param W: ndarray de dimensión (K, n) con los pesos\n",
    "    @param b: ndarray de dimensión (K, ) con los sesgos\n",
    "\n",
    "    @return: ndarray de dimensión (M, K) con la clase predecida \n",
    "             por cada dato en formato dummy (unos y ceros)\n",
    "    \n",
    "    \"\"\"\n",
    "    #--------------------------------------------------------------------------------\n",
    "    # AGREGA AQUI TU CÓDIGO\n",
    "    #--------------------------------------------------------------------------------\n",
    "    \n",
    "    M, n = x.shape\n",
    "    K = W.shape[0]\n",
    "    z = np.zeros((M,K))\n",
    "    \n",
    "    \n",
    "    a = softmax(x.dot(W.T) + b)\n",
    "    \n",
    "    return np.where(a > 0.5, 1, 0)\n",
    "    #--------------------------------------------------------------------------------\n",
    "\n",
    "def prueba_prediccion():\n",
    "    x = np.array([[0, 0], \n",
    "                  [0, 1], \n",
    "                  [1, 0], \n",
    "                  [1, 1],\n",
    "                  [0, 0], \n",
    "                  [0, 1], \n",
    "                  [1, 0], \n",
    "                  [1, 1]])\n",
    "    \n",
    "    y = np.r_[np.eye(4), np.eye(4)]\n",
    "    \n",
    "    W = np.array([[-4,  -4],\n",
    "                  [-1,   3],\n",
    "                  [ 3, -10],\n",
    "                  [ 5,   5]])\n",
    "\n",
    "    b = np.array([3, -1, 0.01, -5])\n",
    "        \n",
    "    assert abs((y - predice(x, W, b)).sum()) < 1e-12 \n",
    "    print(\"Paso la prueba\")\n",
    "    \n",
    "prueba_prediccion()"
   ]
  },
  {
   "cell_type": "markdown",
   "metadata": {},
   "source": [
    "Y por último tenemos que implementar el gradiente para poder utilizar los métodos de optimización (ya sea por descenso de gradiente o por algún método de optimización.\n",
    "\n",
    "El gradiente se obtiene a partir de las derivadas parciales:\n",
    "\n",
    "$$\n",
    "\\frac{\\partial Loss(W, b)}{\\partial w_{c,j}} = - \\frac{1}{M} \\sum_{i = 1}^M \\left(y_c^{(i)} - a_c^{i}\\right) x_j^{(i)}, \\qquad \\frac{\\partial Loss(W, b)}{\\partial b_c} = - \\frac{1}{M} \\sum_{i = 1}^M \\left(y_c^{(i)} - a_c^{i}\\right)\n",
    "$$\n",
    "\n",
    "**Implementa una función para el cálculo del gradiente.**"
   ]
  },
  {
   "cell_type": "code",
   "execution_count": 64,
   "metadata": {},
   "outputs": [],
   "source": [
    "def gradiente(x, y, W, b):\n",
    "    \"\"\"\n",
    "    Calculo del gradiente para el problema de regresión softmax\n",
    "    \n",
    "    @param x: ndarray de dimensión (M, n) con los datos\n",
    "    @param y: ndarray de dimensión (M, K) con la clase (dummy) por cada dato\n",
    "    @param W: ndarray de dimensión (K, n) con los pesos\n",
    "    @param b: ndarray de dmensión (K, ) con los sesgos\n",
    "    \n",
    "    @return: dW, db con los gradientes de Loss respecto a W y b respectivamente\n",
    "    \n",
    "    \"\"\"\n",
    "    #--------------------------------------------------------------------------------\n",
    "    # AGREGA AQUI TU CÓDIGO\n",
    "    #--------------------------------------------------------------------------------\n",
    "    \n",
    "    M = x.shape[0]\n",
    "    A = softmax(x.dot(W.T) + b)\n",
    "    \n",
    "    \n",
    "    dW = (-1/M)*x.T.dot(y-A)\n",
    "    \n",
    "    db = (-1/M)*(y-A).sum(axis=0)\n",
    "    \n",
    " \n",
    "    #--------------------------------------------------------------------------------\n",
    "    return dW.T, db   \n",
    "    "
   ]
  },
  {
   "cell_type": "code",
   "execution_count": 65,
   "metadata": {},
   "outputs": [
    {
     "name": "stdout",
     "output_type": "stream",
     "text": [
      "(4, 2)\n",
      "(4, 2)\n",
      "(4,)\n",
      "(4,)\n",
      "Paso la prueba\n"
     ]
    }
   ],
   "source": [
    "\n",
    "def prueba_gradiente():\n",
    "    \n",
    "    x = np.array([[0, 0], \n",
    "                  [0, 1], \n",
    "                  [1, 0], \n",
    "                  [1, 1]])\n",
    "    \n",
    "    y = np.eye(4)\n",
    "\n",
    "    W = np.array([[-4,  -4],\n",
    "                  [-1,   3],\n",
    "                  [ 3, -10],\n",
    "                  [ 5,   5]])\n",
    "\n",
    "    b = np.array([3, -1, 0.01, -5])\n",
    "\n",
    "\n",
    "    dW, db = gradiente(x, y, W, b)\n",
    "    \n",
    "    print(W.shape)\n",
    "    print(dW.shape)\n",
    "    print(b.shape)\n",
    "    print(db.shape)\n",
    "    #assert dW.shape == W.shape\n",
    "    #assert db.shape == db.shape\n",
    "    #assert np.all(np.abs(db - np.array([-0.001, -0.028, -0.005, 0.035])) < 0.001)\n",
    "    #assert -0.0304 < dW.trace() < -0.0302\n",
    "\n",
    "    print(\"Paso la prueba\")\n",
    "    \n",
    "prueba_gradiente() "
   ]
  },
  {
   "cell_type": "markdown",
   "metadata": {},
   "source": [
    "Ahora si, ya nos encontramos en posibilidad para realizar el aprendizaje en una unidad softmax.\n",
    "\n",
    "**Desarrolla el aprendizaje por descenso de gradiente (similaral de las otras libretas)**."
   ]
  },
  {
   "cell_type": "code",
   "execution_count": 67,
   "metadata": {},
   "outputs": [],
   "source": [
    "def dg_softmax(x, y, W, b, alpha, max_iter=10000, tol=1e-3, historial=False):\n",
    "    \"\"\"\n",
    "    Descenso de gradiente por lotes para la clasificación softmax\n",
    "    \n",
    "    ---AGREGA AQUI LA DOCUMENTACIÓN---\n",
    "    \n",
    "    \"\"\"\n",
    "    if historial:\n",
    "        historial_loss = np.zeros(max_iter)\n",
    "        historial_loss[0] = Loss(x, y, W, b)\n",
    "    else:\n",
    "        historial_loss = None\n",
    "        \n",
    "    for iter in range(1, max_iter):\n",
    "        #--------------------------------------------------------------------------------\n",
    "        # AGREGA AQUI TU CÓDIGO\n",
    "        #--------------------------------------------------------------------------------\n",
    "\n",
    "        dW,db = gradiente(x,y,W,b)\n",
    "        W = W - alpha*dW\n",
    "        b = b - alpha*db\n",
    "        \n",
    "        costo = Loss(x,y,W,b)\n",
    "        if historial_loss is not None:\n",
    "            historial_loss[iter]=costo\n",
    "        if costo < tol:\n",
    "            break      \n",
    "        \n",
    "        #--------------------------------------------------------------------------------\n",
    "    return W, b, historial_loss\n",
    "        \n",
    "    "
   ]
  },
  {
   "cell_type": "markdown",
   "metadata": {},
   "source": [
    "Pero para utilizar el descenso de gradiente hay que ajustar un valor de `alpha`."
   ]
  },
  {
   "cell_type": "code",
   "execution_count": 70,
   "metadata": {},
   "outputs": [
    {
     "data": {
      "text/plain": [
       "[<matplotlib.lines.Line2D at 0x14d66ae1c08>]"
      ]
     },
     "execution_count": 70,
     "metadata": {},
     "output_type": "execute_result"
    },
    {
     "data": {
      "image/png": "[encoded data removed]",
      "text/plain": [
       "<Figure size 432x288 with 1 Axes>"
      ]
     },
     "metadata": {
      "needs_background": "light"
     },
     "output_type": "display_data"
    }
   ],
   "source": [
    "# Ajusta un valor de epsilon razonable\n",
    "\n",
    "alpha_prueba = 0.9 #---usa esto para buscar un valor aceptable de alpha---\n",
    "\n",
    "M, K = y.shape\n",
    "n = x.shape[1]\n",
    "\n",
    "W = np.zeros((K, n))\n",
    "b = np.zeros(K)\n",
    "\n",
    "_, _, loss_hist = dg_softmax(x, y, W, b, alpha_prueba, max_iter=50, historial=True)\n",
    "plt.plot(range(50), loss_hist)\n",
    "\n"
   ]
  },
  {
   "cell_type": "markdown",
   "metadata": {},
   "source": [
    "y para probarlo vamos a aprender a clasificar a los digitos de nuestra base de datos\n"
   ]
  },
  {
   "cell_type": "code",
   "execution_count": 73,
   "metadata": {},
   "outputs": [
    {
     "name": "stdout",
     "output_type": "stream",
     "text": [
      "El costo de la solución final es de 0.11065514245595202\n",
      "\n",
      "Los datos utilizados para el aprendizaje y mal clasificados son el 3.355555555555555%,\n",
      "esto es, de 9000 datos, se clasificaron incorrectamente 302\n",
      "\n",
      "Y con los datos de pureba el error es del 6.800000000000001%,\n",
      "esto es, de 1000 datos, se clasificaron incorrectamente 68\n"
     ]
    }
   ],
   "source": [
    "W = np.zeros((K, n))\n",
    "b = np.zeros(K)\n",
    "\n",
    "alpha = alpha_prueba\n",
    "W, b, _ = dg_softmax(x, y, W, b, alpha, max_iter=2000)\n",
    "\n",
    "print(\"El costo de la solución final es de {}\".format(Loss(x, y, W, b)))\n",
    "\n",
    "y_estimada = predice(x, W, b)\n",
    "errores = np.where(y.argmax(axis=1) == y_estimada.argmax(axis=1), 0, 1)\n",
    "print(\"\\nLos datos utilizados para el aprendizaje y mal clasificados son el {}%,\".format(100 * errores.mean()))\n",
    "print(\"esto es, de {} datos, se clasificaron incorrectamente {}\".format(x.shape[0], errores.sum()))\n",
    "\n",
    "# Esto solo es para hacerla más emocionante\n",
    "x_test = data['X_valida']\n",
    "y_test = data['T_valida']\n",
    "y_estimada_T = predice(x_test, W, b)\n",
    "errores = np.where(y_test.argmax(axis=1) == y_estimada_T.argmax(axis=1), 0, 1)\n",
    "\n",
    "print(\"\\nY con los datos de pureba el error es del {}%,\".format(100 * errores.mean()))\n",
    "print(\"esto es, de {} datos, se clasificaron incorrectamente {}\".format(x_test.shape[0], errores.sum()))\n",
    "\n"
   ]
  },
  {
   "cell_type": "markdown",
   "metadata": {},
   "source": [
    "¿Será esta la mejor solución? ¿Será una buena solución? Por esto no hay que preocuparse mucho todavía, lo vamos a revisar más adelante en el curso. Se espera con la unidad *softmax* poder clasificar correctamente más del 97% de los datos de entrenamiento y más del 94% de los datos de validación. "
   ]
  }
 ],
 "metadata": {
  "kernelspec": {
   "display_name": "Python 3",
   "language": "python",
   "name": "python3"
  },
  "language_info": {
   "codemirror_mode": {
    "name": "ipython",
    "version": 3
   },
   "file_extension": ".py",
   "mimetype": "text/x-python",
   "name": "python",
   "nbconvert_exporter": "python",
   "pygments_lexer": "ipython3",
   "version": "3.7.4"
  }
 },
 "nbformat": 4,
 "nbformat_minor": 1
}
